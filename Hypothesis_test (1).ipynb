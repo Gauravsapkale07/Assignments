{
 "cells": [
  {
   "cell_type": "code",
   "execution_count": 1,
   "id": "95de01db",
   "metadata": {},
   "outputs": [],
   "source": [
    "import numpy as np\n",
    "from scipy import stats"
   ]
  },
  {
   "cell_type": "raw",
   "id": "e488e9ca",
   "metadata": {},
   "source": [
    "1) Define Hypothesis\n",
    "\n",
    "(Null Hypothesis) HO is μ = 4000\n",
    "(Alternate Hypothesis) H1 is μ > 4000"
   ]
  },
  {
   "cell_type": "raw",
   "id": "46c21a7a",
   "metadata": {},
   "source": [
    "2) Choosing the alpha value at 95% confidence level\n",
    "\n",
    "alpha = 1 - 0.95 = 0.05"
   ]
  },
  {
   "cell_type": "raw",
   "id": "35f5f7f9",
   "metadata": {},
   "source": [
    "3) Select the test \n",
    "\n",
    "Here we will select the z-test because population standard deviation is known or given."
   ]
  },
  {
   "cell_type": "raw",
   "id": "09ebf78e",
   "metadata": {},
   "source": [
    "4) Calculate the test statistics value\n",
    "    \n",
    "z = (x̄ - μ) / (σ / √n)\n",
    "where x̄ is sample mean,\n",
    "      μ is population mean,\n",
    "      σ is population standard deviation,\n",
    "      n is number of samples.\n"
   ]
  },
  {
   "cell_type": "raw",
   "id": "f209ac01",
   "metadata": {},
   "source": [
    "5) Determine the critical value\n",
    "\n",
    "We can determine critical value based on alpha value with z table or directly from python.\n"
   ]
  },
  {
   "cell_type": "raw",
   "id": "05467b5a",
   "metadata": {},
   "source": [
    "6) Making Decision\n",
    "\n",
    "If z_value is greater than critical value then null hypothesis is rejected and if z_value is less than critical value then failed to reject null hypothesis."
   ]
  },
  {
   "cell_type": "code",
   "execution_count": 2,
   "id": "36bf0e42",
   "metadata": {},
   "outputs": [],
   "source": [
    "sample_mean = 3050\n",
    "sd = 125\n",
    "n=25\n",
    "population_mean  = 4000\n",
    "alpha = 0.05"
   ]
  },
  {
   "cell_type": "code",
   "execution_count": 3,
   "id": "322b235b",
   "metadata": {},
   "outputs": [],
   "source": [
    "z_value = (sample_mean - population_mean)/(sd/(n**0.5)) # Calculate z value"
   ]
  },
  {
   "cell_type": "code",
   "execution_count": 4,
   "id": "ce1dee8c",
   "metadata": {},
   "outputs": [],
   "source": [
    "critical_value = stats.norm.ppf(0.95)  # determine the critical value"
   ]
  },
  {
   "cell_type": "code",
   "execution_count": 5,
   "id": "1e8f0b7d",
   "metadata": {},
   "outputs": [
    {
     "name": "stdout",
     "output_type": "stream",
     "text": [
      "Failed to reject null hypothesis\n"
     ]
    }
   ],
   "source": [
    "if z_value > critical_value:\n",
    "    print(\"Reject Null Hypothesis\")\n",
    "else:\n",
    "    print(\"Failed to reject null hypothesis\")"
   ]
  },
  {
   "cell_type": "raw",
   "id": "b1a89539",
   "metadata": {},
   "source": [
    " Conclusion : There is insufficient evidence to support the restaurant owner's claim that weekly operating cost is higher than the cost predicted by the model.\n"
   ]
  },
  {
   "cell_type": "code",
   "execution_count": null,
   "id": "b9b626d3",
   "metadata": {},
   "outputs": [],
   "source": []
  }
 ],
 "metadata": {
  "kernelspec": {
   "display_name": "Python 3 (ipykernel)",
   "language": "python",
   "name": "python3"
  },
  "language_info": {
   "codemirror_mode": {
    "name": "ipython",
    "version": 3
   },
   "file_extension": ".py",
   "mimetype": "text/x-python",
   "name": "python",
   "nbconvert_exporter": "python",
   "pygments_lexer": "ipython3",
   "version": "3.9.13"
  }
 },
 "nbformat": 4,
 "nbformat_minor": 5
}
