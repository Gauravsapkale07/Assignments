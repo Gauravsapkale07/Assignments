{
 "cells": [
  {
   "cell_type": "markdown",
   "id": "be664cfe",
   "metadata": {},
   "source": [
    "### Step 1: State the Hypotheses"
   ]
  },
  {
   "cell_type": "code",
   "execution_count": null,
   "id": "db27acb0",
   "metadata": {},
   "outputs": [],
   "source": [
    "# Null Hypothesis (H0):\n",
    "# There is no association between the type of smart home device purchased\n",
    "# and customer satisfaction level (they are independent).\n",
    "\n",
    "# Alternative Hypothesis (H1):\n",
    "# There is an association between the type of smart home device purchased\n",
    "# and customer satisfaction level (they are dependent).\n"
   ]
  },
  {
   "cell_type": "markdown",
   "id": "9ea985d1",
   "metadata": {},
   "source": [
    "### Step 2: Contingency Table and Chi-Square Test"
   ]
  },
  {
   "cell_type": "code",
   "execution_count": null,
   "id": "bb9ab4b7",
   "metadata": {},
   "outputs": [],
   "source": [
    "import pandas as pd\n",
    "from scipy.stats import chi2_contingency\n",
    "\n",
    "# Observed data\n",
    "data = [[50, 70],\n",
    "        [80, 100],\n",
    "        [60, 90],\n",
    "        [30, 50],\n",
    "        [20, 50]]\n",
    "\n",
    "# Create DataFrame\n",
    "df = pd.DataFrame(data, columns=[\"Smart Thermostat\", \"Smart Light\"],\n",
    "                  index=[\"Very Satisfied\", \"Satisfied\", \"Neutral\", \"Unsatisfied\", \"Very Unsatisfied\"])\n",
    "\n",
    "print(\"Observed Frequencies (Contingency Table):\")\n",
    "print(df)\n",
    "\n",
    "# Chi-Square Test\n",
    "chi2_stat, p_value, dof, expected = chi2_contingency(df)\n",
    "\n",
    "print(\"\\nChi-Square Statistic:\", chi2_stat)\n",
    "print(\"Degrees of Freedom:\", dof)\n",
    "print(\"Expected Frequencies:\")\n",
    "print(pd.DataFrame(expected, columns=df.columns, index=df.index))\n"
   ]
  },
  {
   "cell_type": "markdown",
   "id": "5731c663",
   "metadata": {},
   "source": [
    "### Step 3: Determine the Critical Value"
   ]
  },
  {
   "cell_type": "code",
   "execution_count": null,
   "id": "de1e9ea5",
   "metadata": {},
   "outputs": [],
   "source": [
    "from scipy.stats import chi2\n",
    "\n",
    "alpha = 0.05  # significance level\n",
    "critical_value = chi2.ppf(1 - alpha, dof)\n",
    "\n",
    "print(\"Critical Value at 0.05 significance level:\", critical_value)\n"
   ]
  },
  {
   "cell_type": "markdown",
   "id": "0e2234dc",
   "metadata": {},
   "source": [
    "### Step 4: Make a Decision"
   ]
  },
  {
   "cell_type": "code",
   "execution_count": null,
   "id": "9c9918a8",
   "metadata": {},
   "outputs": [],
   "source": [
    "if chi2_stat > critical_value:\n",
    "    print(\"Reject the null hypothesis (H0).\")\n",
    "    print(\"Conclusion: There IS a significant association between device type and customer satisfaction.\")\n",
    "else:\n",
    "    print(\"Fail to reject the null hypothesis (H0).\")\n",
    "    print(\"Conclusion: There is NO significant association between device type and customer satisfaction.\")\n"
   ]
  }
 ],
 "metadata": {},
 "nbformat": 4,
 "nbformat_minor": 5
}
