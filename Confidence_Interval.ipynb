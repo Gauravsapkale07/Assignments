{
 "cells": [
  {
   "cell_type": "code",
   "execution_count": 14,
   "id": "d59297cf",
   "metadata": {},
   "outputs": [],
   "source": [
    "import numpy as np\n",
    "from scipy import stats"
   ]
  },
  {
   "cell_type": "code",
   "execution_count": 4,
   "id": "35b061c6",
   "metadata": {},
   "outputs": [],
   "source": [
    "# Creating array of data\n",
    "data = np.array([1.13, 1.55, 1.43, 0.92, 1.25, 1.36, 1.32, 0.85, \n",
    "                 1.07, 1.48, 1.20, 1.33, 1.18, 1.22, 1.29]) "
   ]
  },
  {
   "cell_type": "code",
   "execution_count": 5,
   "id": "ee9462c0",
   "metadata": {},
   "outputs": [
    {
     "data": {
      "text/plain": [
       "array([1.13, 1.55, 1.43, 0.92, 1.25, 1.36, 1.32, 0.85, 1.07, 1.48, 1.2 ,\n",
       "       1.33, 1.18, 1.22, 1.29])"
      ]
     },
     "execution_count": 5,
     "metadata": {},
     "output_type": "execute_result"
    }
   ],
   "source": [
    "data"
   ]
  },
  {
   "cell_type": "code",
   "execution_count": 9,
   "id": "24712dea",
   "metadata": {},
   "outputs": [],
   "source": [
    "n = 15\n",
    "alpha = 0.01"
   ]
  },
  {
   "cell_type": "markdown",
   "id": "4cee4cfb",
   "metadata": {},
   "source": [
    "#### a. Building 99% Confidence Interval Using Sample Standard Deviation"
   ]
  },
  {
   "cell_type": "raw",
   "id": "2f9b2a4c",
   "metadata": {},
   "source": [
    "We need to calculate mean, sample standard deviation"
   ]
  },
  {
   "cell_type": "code",
   "execution_count": 10,
   "id": "008e5c30",
   "metadata": {},
   "outputs": [],
   "source": [
    "mean = np.mean(data)"
   ]
  },
  {
   "cell_type": "code",
   "execution_count": 11,
   "id": "70ba77ba",
   "metadata": {},
   "outputs": [
    {
     "data": {
      "text/plain": [
       "np.float64(1.2386666666666666)"
      ]
     },
     "execution_count": 11,
     "metadata": {},
     "output_type": "execute_result"
    }
   ],
   "source": [
    "mean"
   ]
  },
  {
   "cell_type": "code",
   "execution_count": 12,
   "id": "14e559e2",
   "metadata": {},
   "outputs": [],
   "source": [
    "s_sd = np.std(data)"
   ]
  },
  {
   "cell_type": "code",
   "execution_count": 13,
   "id": "1f203541",
   "metadata": {},
   "outputs": [
    {
     "data": {
      "text/plain": [
       "np.float64(0.18661427836285438)"
      ]
     },
     "execution_count": 13,
     "metadata": {},
     "output_type": "execute_result"
    }
   ],
   "source": [
    "s_sd"
   ]
  },
  {
   "cell_type": "code",
   "execution_count": 15,
   "id": "d1ecec5b",
   "metadata": {},
   "outputs": [],
   "source": [
    "t_critical = stats.t.ppf(1-(alpha/2),df = n-1)"
   ]
  },
  {
   "cell_type": "code",
   "execution_count": 16,
   "id": "7781d61a",
   "metadata": {},
   "outputs": [
    {
     "data": {
      "text/plain": [
       "np.float64(2.976842734370834)"
      ]
     },
     "execution_count": 16,
     "metadata": {},
     "output_type": "execute_result"
    }
   ],
   "source": [
    "t_critical"
   ]
  },
  {
   "cell_type": "code",
   "execution_count": 17,
   "id": "67125a88",
   "metadata": {},
   "outputs": [],
   "source": [
    "upper_ci = mean + (t_critical) * (s_sd / (n)**0.5)"
   ]
  },
  {
   "cell_type": "code",
   "execution_count": 18,
   "id": "04afc559",
   "metadata": {},
   "outputs": [],
   "source": [
    "lower_ci = mean - (t_critical) * (s_sd / (n)**0.5)"
   ]
  },
  {
   "cell_type": "code",
   "execution_count": 26,
   "id": "8abb30b0",
   "metadata": {},
   "outputs": [
    {
     "name": "stdout",
     "output_type": "stream",
     "text": [
      "lower to upper range of confidence interval 1.095231668626123 - 1.3821016647072102\n"
     ]
    }
   ],
   "source": [
    "print(f\"lower to upper range of confidence interval {lower_ci} - {upper_ci}\")"
   ]
  },
  {
   "cell_type": "code",
   "execution_count": null,
   "id": "ce7af239",
   "metadata": {},
   "outputs": [],
   "source": []
  }
 ],
 "metadata": {
  "kernelspec": {
   "display_name": "Python 3 (ipykernel)",
   "language": "python",
   "name": "python3"
  },
  "language_info": {
   "codemirror_mode": {
    "name": "ipython",
    "version": 3
   },
   "file_extension": ".py",
   "mimetype": "text/x-python",
   "name": "python",
   "nbconvert_exporter": "python",
   "pygments_lexer": "ipython3",
   "version": "3.9.13"
  }
 },
 "nbformat": 4,
 "nbformat_minor": 5
}
