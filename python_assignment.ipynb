{
  "nbformat": 4,
  "nbformat_minor": 0,
  "metadata": {
    "colab": {
      "provenance": []
    },
    "kernelspec": {
      "name": "python3",
      "display_name": "Python 3"
    },
    "language_info": {
      "name": "python"
    }
  },
  "cells": [
    {
      "cell_type": "markdown",
      "source": [
        "# Prime Numbers"
      ],
      "metadata": {
        "id": "E4xEyPkYkxz3"
      }
    },
    {
      "cell_type": "code",
      "execution_count": 13,
      "metadata": {
        "colab": {
          "base_uri": "https://localhost:8080/"
        },
        "id": "y8KVvL4DkgIH",
        "outputId": "c479f5ca-126a-4817-cf65-754b418bd543"
      },
      "outputs": [
        {
          "output_type": "stream",
          "name": "stdout",
          "text": [
            "Enter the number: 6\n",
            "The number is not prime\n"
          ]
        }
      ],
      "source": [
        "# Ask the user to input a number\n",
        "n = int(input(\"Enter the number: \"))\n",
        "\n",
        "# Check if the number is less than or equal to 1 (not prime by definition)\n",
        "if n <= 1:\n",
        "    print(\"The number is not prime\")\n",
        "else:\n",
        "    # Assume the number is prime unless a divisor is found\n",
        "    is_prime = True\n",
        "\n",
        "    # Check for divisibility from 2 up to the square root of n\n",
        "    for i in range(2, int(n ** 0.5) + 1):\n",
        "        if n % i == 0:\n",
        "            # If n is divisible by any number in this range, it's not prime\n",
        "            is_prime = False\n",
        "            break\n",
        "\n",
        "    # Output the result based on the is_prime flag\n",
        "    if is_prime:\n",
        "        print(\"The number is prime\")\n",
        "    else:\n",
        "        print(\"The number is not prime\")\n"
      ]
    },
    {
      "cell_type": "markdown",
      "source": [
        "# Product of random numbers"
      ],
      "metadata": {
        "id": "4aNjEnxLlC0v"
      }
    },
    {
      "cell_type": "code",
      "source": [
        "import random\n",
        "\n",
        "# Generate two random integers between 1 and 10\n",
        "num1 = random.randint(1, 10)\n",
        "num2 = random.randint(1, 10)\n",
        "\n",
        "# Ask the user to guess the product\n",
        "print(f\"Multiply these two numbers: {num1} and {num2}\")\n",
        "user_answer = int(input(\"What is the product? \"))\n",
        "\n",
        "# Calculate the correct product\n",
        "correct_product = num1 * num2\n",
        "\n",
        "# Check the answer\n",
        "if user_answer == correct_product:\n",
        "    print(\"Great job! You got it right.\")\n",
        "else:\n",
        "    print(f\"Not quite. The correct answer was {correct_product}.\")\n"
      ],
      "metadata": {
        "colab": {
          "base_uri": "https://localhost:8080/"
        },
        "id": "kEK-mwgRlDGS",
        "outputId": "d22d83f7-869e-4b44-887b-565780efc2fb"
      },
      "execution_count": 5,
      "outputs": [
        {
          "output_type": "stream",
          "name": "stdout",
          "text": [
            "Multiply these two numbers: 7 and 9\n",
            "What is the product? 2\n",
            "Not quite. The correct answer was 63.\n"
          ]
        }
      ]
    },
    {
      "cell_type": "markdown",
      "source": [
        "# Squares of Even/Odd Numbers"
      ],
      "metadata": {
        "id": "KSFdc_-7lwD6"
      }
    },
    {
      "cell_type": "code",
      "source": [
        "# Exercise 3: Squares of Even Numbers\n",
        "# This script prints the squares of all even numbers from 100 to 200 (excluding 200)\n",
        "\n",
        "print(\"Squares of even numbers from 100 to 199:\\n\")\n",
        "\n",
        "for i in range(100, 200, 2):  # 100 to 199 (even numbers only)\n",
        "    print(f\"{i}^2 = {i * i}\")\n"
      ],
      "metadata": {
        "colab": {
          "base_uri": "https://localhost:8080/"
        },
        "id": "L8eOhQ3Olh54",
        "outputId": "4e909205-7c52-4a64-ee79-4ac6ae58196d"
      },
      "execution_count": 6,
      "outputs": [
        {
          "output_type": "stream",
          "name": "stdout",
          "text": [
            "Squares of even numbers from 100 to 199:\n",
            "\n",
            "100^2 = 10000\n",
            "102^2 = 10404\n",
            "104^2 = 10816\n",
            "106^2 = 11236\n",
            "108^2 = 11664\n",
            "110^2 = 12100\n",
            "112^2 = 12544\n",
            "114^2 = 12996\n",
            "116^2 = 13456\n",
            "118^2 = 13924\n",
            "120^2 = 14400\n",
            "122^2 = 14884\n",
            "124^2 = 15376\n",
            "126^2 = 15876\n",
            "128^2 = 16384\n",
            "130^2 = 16900\n",
            "132^2 = 17424\n",
            "134^2 = 17956\n",
            "136^2 = 18496\n",
            "138^2 = 19044\n",
            "140^2 = 19600\n",
            "142^2 = 20164\n",
            "144^2 = 20736\n",
            "146^2 = 21316\n",
            "148^2 = 21904\n",
            "150^2 = 22500\n",
            "152^2 = 23104\n",
            "154^2 = 23716\n",
            "156^2 = 24336\n",
            "158^2 = 24964\n",
            "160^2 = 25600\n",
            "162^2 = 26244\n",
            "164^2 = 26896\n",
            "166^2 = 27556\n",
            "168^2 = 28224\n",
            "170^2 = 28900\n",
            "172^2 = 29584\n",
            "174^2 = 30276\n",
            "176^2 = 30976\n",
            "178^2 = 31684\n",
            "180^2 = 32400\n",
            "182^2 = 33124\n",
            "184^2 = 33856\n",
            "186^2 = 34596\n",
            "188^2 = 35344\n",
            "190^2 = 36100\n",
            "192^2 = 36864\n",
            "194^2 = 37636\n",
            "196^2 = 38416\n",
            "198^2 = 39204\n"
          ]
        }
      ]
    },
    {
      "cell_type": "markdown",
      "source": [
        "# Word counter"
      ],
      "metadata": {
        "id": "PGJVqrXSni9H"
      }
    },
    {
      "cell_type": "code",
      "source": [
        "# Exercise 4: Word Counter\n",
        "# This program counts the frequency of each word in the input text\n",
        "\n",
        "input_text = \"This is a sample text. This text will be used to demonstrate the word counter.\"\n",
        "\n",
        "# Split text into words\n",
        "words = input_text.split()\n",
        "\n",
        "# Initialize dictionary to hold word counts\n",
        "word_count = {}\n",
        "\n",
        "# Count frequency of each word\n",
        "for word in words:\n",
        "    if word in word_count:\n",
        "        word_count[word] += 1\n",
        "    else:\n",
        "        word_count[word] = 1\n",
        "\n",
        "# Print the word counts\n",
        "for word, count in word_count.items():\n",
        "    print(f\"'{word}': {count}\")\n"
      ],
      "metadata": {
        "colab": {
          "base_uri": "https://localhost:8080/"
        },
        "id": "FvCiBgJ4nabk",
        "outputId": "18d44625-23bc-40b9-d1dd-500e542e97cc"
      },
      "execution_count": 7,
      "outputs": [
        {
          "output_type": "stream",
          "name": "stdout",
          "text": [
            "'This': 2\n",
            "'is': 1\n",
            "'a': 1\n",
            "'sample': 1\n",
            "'text.': 1\n",
            "'text': 1\n",
            "'will': 1\n",
            "'be': 1\n",
            "'used': 1\n",
            "'to': 1\n",
            "'demonstrate': 1\n",
            "'the': 1\n",
            "'word': 1\n",
            "'counter.': 1\n"
          ]
        }
      ]
    },
    {
      "cell_type": "markdown",
      "source": [
        "# Check for palindrome"
      ],
      "metadata": {
        "id": "wIXzCUa4qQfD"
      }
    },
    {
      "cell_type": "code",
      "source": [
        "import re\n",
        "def is_palindrome(s):\n",
        "    # Remove all non-alphanumeric characters and convert to lowercase\n",
        "    cleaned = re.sub(r'[^A-Za-z0-9]', '', s).lower()\n",
        "\n",
        "    # Check if the cleaned string is equal to its reverse\n",
        "    return cleaned == cleaned[::-1]\n",
        "\n",
        "print(is_palindrome(\"No lemon, no melon\"))       # True\n",
        "print(is_palindrome(\"12321\"))                    # True\n",
        "print(is_palindrome(\"Python is fun\"))            # False"
      ],
      "metadata": {
        "colab": {
          "base_uri": "https://localhost:8080/"
        },
        "id": "d6kpjx1Bp5Q1",
        "outputId": "1548216e-ab09-48be-ee61-b598240a084c"
      },
      "execution_count": 12,
      "outputs": [
        {
          "output_type": "stream",
          "name": "stdout",
          "text": [
            "True\n",
            "True\n",
            "False\n"
          ]
        }
      ]
    },
    {
      "cell_type": "code",
      "source": [],
      "metadata": {
        "id": "3jiGwggOrogy"
      },
      "execution_count": null,
      "outputs": []
    }
  ]
}